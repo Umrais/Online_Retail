{
 "cells": [
  {
   "cell_type": "code",
   "execution_count": 29,
   "metadata": {},
   "outputs": [
    {
     "name": "stdout",
     "output_type": "stream",
     "text": [
      "  InvoiceNo StockCode                          Description  Quantity  \\\n",
      "0    536365    85123A   WHITE HANGING HEART T-LIGHT HOLDER         6   \n",
      "1    536365     71053                  WHITE METAL LANTERN         6   \n",
      "2    536365    84406B       CREAM CUPID HEARTS COAT HANGER         8   \n",
      "3    536365    84029G  KNITTED UNION FLAG HOT WATER BOTTLE         6   \n",
      "4    536365    84029E       RED WOOLLY HOTTIE WHITE HEART.         6   \n",
      "\n",
      "          InvoiceDate  UnitPrice  CustomerID         Country  \n",
      "0 2010-12-01 08:26:00       2.55     17850.0  United Kingdom  \n",
      "1 2010-12-01 08:26:00       3.39     17850.0  United Kingdom  \n",
      "2 2010-12-01 08:26:00       2.75     17850.0  United Kingdom  \n",
      "3 2010-12-01 08:26:00       3.39     17850.0  United Kingdom  \n",
      "4 2010-12-01 08:26:00       3.39     17850.0  United Kingdom  \n"
     ]
    }
   ],
   "source": [
    "# Import necessary libraries\n",
    "import pandas as pd\n",
    "import numpy as np\n",
    "from sklearn.cluster import KMeans\n",
    "from sklearn.preprocessing import StandardScaler\n",
    "import time\n",
    "from joblib import Parallel, delayed\n",
    "import os\n",
    "\n",
    "# Set the path to the file\n",
    "file_path = r'C:\\Users\\user\\OneDrive\\Desktop\\MS folder\\Parallell algoritham\\Online Retail.xlsx'\n",
    "\n",
    "# Load the data\n",
    "df = pd.read_excel(file_path)\n",
    "\n",
    "# Display the first few rows to understand the structure of the dataset\n",
    "print(df.head())\n"
   ]
  },
  {
   "cell_type": "markdown",
   "metadata": {},
   "source": [
    "Preprocessing the Data"
   ]
  },
  {
   "cell_type": "code",
   "execution_count": 30,
   "metadata": {},
   "outputs": [
    {
     "name": "stdout",
     "output_type": "stream",
     "text": [
      "CustomerID    0\n",
      "TotalSpend    0\n",
      "dtype: int64\n",
      "   CustomerID  TotalSpend\n",
      "0     12346.0        0.00\n",
      "1     12347.0     4310.00\n",
      "2     12348.0     1797.24\n",
      "3     12349.0     1757.55\n",
      "4     12350.0      334.40\n"
     ]
    }
   ],
   "source": [
    "# Step 1: Data Cleaning and Preprocessing\n",
    "\n",
    "# Remove rows where 'CustomerID' or 'Quantity' or 'UnitPrice' is missing\n",
    "df = df.dropna(subset=['CustomerID', 'Quantity', 'UnitPrice'])\n",
    "\n",
    "# Create a new column 'TotalSpend' by multiplying 'Quantity' and 'UnitPrice'\n",
    "df['TotalSpend'] = df['Quantity'] * df['UnitPrice']\n",
    "\n",
    "# Step 2: Group data by 'CustomerID' to get total spend per customer\n",
    "customer_data = df.groupby('CustomerID')['TotalSpend'].sum().reset_index()\n",
    "\n",
    "# Display the cleaned data\n",
    "print(customer_data.head())\n"
   ]
  },
  {
   "cell_type": "markdown",
   "metadata": {},
   "source": [
    "##### Here, I cleaned the dataset by removing missing values and calculated the total spending for each customer. This grouped data will serve as input for clustering."
   ]
  },
  {
   "cell_type": "markdown",
   "metadata": {},
   "source": [
    "Scaling the Data"
   ]
  },
  {
   "cell_type": "code",
   "execution_count": 31,
   "metadata": {},
   "outputs": [
    {
     "name": "stdout",
     "output_type": "stream",
     "text": [
      "[[-0.23100099]\n",
      " [ 0.29343167]\n",
      " [-0.01231622]\n",
      " [-0.01714563]\n",
      " [-0.19031183]]\n"
     ]
    }
   ],
   "source": [
    "# Step 3: Feature Scaling (standardization)\n",
    "scaler = StandardScaler()\n",
    "scaled_data = scaler.fit_transform(customer_data[['TotalSpend']])\n",
    "\n",
    "# Check the scaled data\n",
    "print(scaled_data[:5])  # Display the first 5 scaled values\n"
   ]
  },
  {
   "cell_type": "markdown",
   "metadata": {},
   "source": [
    "##### To prepare the data for K-means clustering, I standardized it using StandardScaler to ensure all values are scaled properly."
   ]
  },
  {
   "cell_type": "markdown",
   "metadata": {},
   "source": [
    "Non-parallel K-means Implementation"
   ]
  },
  {
   "cell_type": "markdown",
   "metadata": {},
   "source": [
    "Apply K-means with a fixed number of clusters (let’s say 5)."
   ]
  },
  {
   "cell_type": "markdown",
   "metadata": {},
   "source": [
    "Record the time taken to run the algorithm."
   ]
  },
  {
   "cell_type": "code",
   "execution_count": 32,
   "metadata": {},
   "outputs": [
    {
     "name": "stdout",
     "output_type": "stream",
     "text": [
      "Non-parallel K-means completed in: 0.17332243919372559 seconds\n"
     ]
    }
   ],
   "source": [
    "# Step 4: Non-parallel K-means clustering\n",
    "def non_parallel_kmeans(data, num_clusters=5):\n",
    "    # Create a KMeans instance with the desired number of clusters\n",
    "    kmeans = KMeans(n_clusters=num_clusters, random_state=42)\n",
    "\n",
    "    # Fit the model to the scaled data and predict the clusters\n",
    "    labels = kmeans.fit_predict(data)\n",
    "\n",
    "    return kmeans, labels\n",
    "\n",
    "# Time the non-parallel K-means\n",
    "start_time = time.time()\n",
    "\n",
    "# Run K-means clustering\n",
    "kmeans_model, labels = non_parallel_kmeans(scaled_data)\n",
    "\n",
    "# Time taken\n",
    "non_parallel_time = time.time() - start_time\n",
    "\n",
    "# Print the results\n",
    "print(\"Non-parallel K-means completed in:\", non_parallel_time, \"seconds\")\n"
   ]
  },
  {
   "cell_type": "markdown",
   "metadata": {},
   "source": [
    "##### This section implements the non-parallel K-means algorithm using the KMeans class from sklearn. I measured its execution time to compare it later with the parallel version."
   ]
  },
  {
   "cell_type": "code",
   "execution_count": 33,
   "metadata": {},
   "outputs": [],
   "source": [
    "from sklearn.cluster import KMeans\n",
    "\n",
    "def non_parallel_kmeans(data, num_clusters=5):\n",
    "    kmeans = KMeans(n_clusters=num_clusters, random_state=42, init='k-means++')  \n",
    "    labels = kmeans.fit_predict(data)\n",
    "    return kmeans, labels\n"
   ]
  },
  {
   "cell_type": "markdown",
   "metadata": {},
   "source": [
    "Parallel K-means Implementation"
   ]
  },
  {
   "cell_type": "markdown",
   "metadata": {},
   "source": [
    "Parallelize the computation of distances between data points and centroids"
   ]
  },
  {
   "cell_type": "markdown",
   "metadata": {},
   "source": [
    "Recompute centroids using standard K-means logic."
   ]
  },
  {
   "cell_type": "code",
   "execution_count": 34,
   "metadata": {},
   "outputs": [
    {
     "name": "stdout",
     "output_type": "stream",
     "text": [
      "Parallel K-means completed in: 33.37999773025513 seconds\n"
     ]
    }
   ],
   "source": [
    "# Step 5: Parallel K-means clustering\n",
    "def compute_distances(data_point, centroids):\n",
    "    \"\"\"Calculate distance of a data point from all centroids.\"\"\"\n",
    "    return np.linalg.norm(data_point - centroids, axis=1)\n",
    "\n",
    "def parallel_kmeans(X, k, n_jobs=-1, max_iter=100):\n",
    "    \"\"\"Parallel K-means with parallelized distance calculation.\"\"\"\n",
    "    # Randomly initialize centroids\n",
    "    centroids = X[np.random.choice(X.shape[0], k, replace=False)]  # Initial centroids\n",
    "    \n",
    "    for i in range(max_iter):  # Max iterations\n",
    "        # Step 1: Assign points to closest centroids (parallelized)\n",
    "        distances = Parallel(n_jobs=n_jobs)(delayed(compute_distances)(X[j], centroids) for j in range(X.shape[0]))\n",
    "        distances = np.array(distances)\n",
    "        closest_centroids = np.argmin(distances, axis=1)\n",
    "        \n",
    "        # Step 2: Recompute centroids\n",
    "        new_centroids = np.array([X[closest_centroids == i].mean(axis=0) for i in range(k)])\n",
    "        \n",
    "        # Check for convergence (no change in centroids)\n",
    "        if np.all(centroids == new_centroids):\n",
    "            break\n",
    "        \n",
    "        centroids = new_centroids\n",
    "    \n",
    "    return centroids, closest_centroids\n",
    "\n",
    "# Time the parallel K-means\n",
    "start_time_parallel = time.time()\n",
    "\n",
    "# Run parallel K-means with 4 workers (use your CPU cores)\n",
    "centroids_parallel, labels_parallel = parallel_kmeans(scaled_data, k=5, n_jobs=4)\n",
    "\n",
    "# Time taken\n",
    "parallel_time = time.time() - start_time_parallel\n",
    "\n",
    "# Print the results\n",
    "print(\"Parallel K-means completed in:\", parallel_time, \"seconds\")\n"
   ]
  },
  {
   "cell_type": "markdown",
   "metadata": {},
   "source": [
    "##### This section contains the parallel implementation of K-means. I parallelized the distance calculations and centroid updates using joblib.Parallel. The performance will later be compared to the non-parallel implementation."
   ]
  },
  {
   "cell_type": "code",
   "execution_count": 35,
   "metadata": {},
   "outputs": [],
   "source": [
    "from joblib import Parallel, delayed\n",
    "import numpy as np\n",
    "\n",
    "def compute_distances(data_chunk, centroids):\n",
    "    \"\"\"Compute the distance from each point in the data chunk to all centroids.\"\"\"\n",
    "    distances = np.linalg.norm(data_chunk[:, np.newaxis] - centroids, axis=2)  # Euclidean distance\n",
    "    return distances\n",
    "\n",
    "def parallel_kmeans(X, k, n_jobs=-1, max_iter=100):\n",
    "    \"\"\"Parallel K-means with parallelized distance calculation and centroid update.\"\"\"\n",
    "    \n",
    "    # Initialize centroids using k-means++ initialization\n",
    "    centroids = X[np.random.choice(X.shape[0], k, replace=False)]  # Initial centroids\n",
    "\n",
    "    for i in range(max_iter):  # Max iterations\n",
    "        # Step 1: Parallelize distance computation\n",
    "        distances = Parallel(n_jobs=n_jobs)(\n",
    "            delayed(compute_distances)(X[j:j+100], centroids) for j in range(0, X.shape[0], 100)\n",
    "        )\n",
    "        \n",
    "        distances = np.concatenate(distances)  # Combine the results from parallel tasks\n",
    "        closest_centroids = np.argmin(distances, axis=1)\n",
    "\n",
    "        # Step 2: Parallelize centroid computation\n",
    "        new_centroids = np.array([X[closest_centroids == i].mean(axis=0) for i in range(k)])\n",
    "\n",
    "        # Check for convergence (no change in centroids)\n",
    "        if np.all(centroids == new_centroids):\n",
    "            break\n",
    "\n",
    "        centroids = new_centroids\n",
    "\n",
    "    return centroids, closest_centroids\n"
   ]
  },
  {
   "cell_type": "markdown",
   "metadata": {},
   "source": [
    "Speedup Calculation and Benchmarking"
   ]
  },
  {
   "cell_type": "markdown",
   "metadata": {},
   "source": [
    "Finally, we’ll calculate the speedup between the non-parallel and parallel versions.\n",
    "\n"
   ]
  },
  {
   "cell_type": "markdown",
   "metadata": {},
   "source": [
    "Speedup = (Time taken for non-parallel) / (Time taken for parallel)"
   ]
  },
  {
   "cell_type": "code",
   "execution_count": 36,
   "metadata": {},
   "outputs": [
    {
     "name": "stdout",
     "output_type": "stream",
     "text": [
      "Speedup achieved: 0.01x faster with parallel K-means\n"
     ]
    },
    {
     "data": {
      "image/png": "[encoded data removed]",
      "text/plain": [
       "<Figure size 640x480 with 1 Axes>"
      ]
     },
     "metadata": {},
     "output_type": "display_data"
    }
   ],
   "source": [
    "# Step 6: Speedup calculation\n",
    "speedup = non_parallel_time / parallel_time\n",
    "print(f\"Speedup achieved: {speedup:.2f}x faster with parallel K-means\")\n",
    "\n",
    "# Optionally, plot the time vs. number of threads (for different values of n_jobs)\n",
    "import matplotlib.pyplot as plt\n",
    "\n",
    "# Prepare different n_jobs and time data for plotting\n",
    "n_jobs_list = [1, 2, 4, 8]\n",
    "times = []\n",
    "\n",
    "for n_jobs in n_jobs_list:\n",
    "    start_time = time.time()\n",
    "    parallel_kmeans(scaled_data, k=5, n_jobs=n_jobs)\n",
    "    times.append(time.time() - start_time)\n",
    "\n",
    "# Plotting speedup graph\n",
    "plt.plot(n_jobs_list, times, marker='o')\n",
    "plt.xlabel('Number of threads (n_jobs)')\n",
    "plt.ylabel('Time taken (seconds)')\n",
    "plt.title('Parallel K-means Performance vs. Number of Threads')\n",
    "plt.show()\n"
   ]
  },
  {
   "cell_type": "markdown",
   "metadata": {},
   "source": [
    "##### Finally, I calculated the speedup achieved with parallelization and visualized the performance by plotting time against the number of threads used. This demonstrates the efficiency of parallelization."
   ]
  }
 ],
 "metadata": {
  "kernelspec": {
   "display_name": "base",
   "language": "python",
   "name": "python3"
  },
  "language_info": {
   "codemirror_mode": {
    "name": "ipython",
    "version": 3
   },
   "file_extension": ".py",
   "mimetype": "text/x-python",
   "name": "python",
   "nbconvert_exporter": "python",
   "pygments_lexer": "ipython3",
   "version": "3.12.3"
  }
 },
 "nbformat": 4,
 "nbformat_minor": 2
}
